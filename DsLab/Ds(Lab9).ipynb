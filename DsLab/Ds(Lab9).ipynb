{
  "nbformat": 4,
  "nbformat_minor": 0,
  "metadata": {
    "colab": {
      "provenance": []
    },
    "kernelspec": {
      "name": "python3",
      "display_name": "Python 3"
    },
    "language_info": {
      "name": "python"
    }
  },
  "cells": [
    {
      "cell_type": "code",
      "execution_count": null,
      "metadata": {
        "colab": {
          "base_uri": "https://localhost:8080/"
        },
        "id": "TWV1Qc1Y3rtn",
        "outputId": "2f31bc98-b9f1-4df3-82ee-cad2f34eff8f"
      },
      "outputs": [
        {
          "output_type": "stream",
          "name": "stdout",
          "text": [
            "Simple Hypothesis Testing:\n",
            "t-statistic: -1.1434720057588446\n",
            "p-value: 0.2556001762530366\n",
            "\n",
            "Student’s t-test:\n",
            "t-statistic: -8.551459943248743\n",
            "p-value: 3.292961428703462e-15\n",
            "\n",
            "Paired t-test:\n",
            "t-statistic: -8.022348599718663\n",
            "p-value: 2.1497689503229375e-12\n",
            "\n",
            "Correlation:\n",
            "Correlation coefficient: -0.13642221217000258\n",
            "p-value: 0.17592555489276998\n",
            "\n",
            "Tests for Association (Chi-square test of independence):\n",
            "Chi-square statistic: 15.041666666666666\n",
            "p-value: 0.00010516355403363098\n"
          ]
        }
      ],
      "source": [
        "import numpy as np\n",
        "import scipy.stats as stats\n",
        "\n",
        "# Generate random data for demonstration\n",
        "np.random.seed(42)\n",
        "data1 = np.random.normal(loc=10, scale=2, size=100)\n",
        "data2 = np.random.normal(loc=12, scale=2, size=100)\n",
        "\n",
        "# Simple Hypothesis Testing (one-sample t-test)\n",
        "t_stat, p_value = stats.ttest_1samp(data1, 10)\n",
        "print(\"Simple Hypothesis Testing:\")\n",
        "print(\"t-statistic:\", t_stat)\n",
        "print(\"p-value:\", p_value)\n",
        "\n",
        "# Student’s t-test (independent samples t-test)\n",
        "t_stat, p_value = stats.ttest_ind(data1, data2)\n",
        "print(\"\\nStudent’s t-test:\")\n",
        "print(\"t-statistic:\", t_stat)\n",
        "print(\"p-value:\", p_value)\n",
        "\n",
        "# Paired t-test\n",
        "t_stat, p_value = stats.ttest_rel(data1, data2)\n",
        "print(\"\\nPaired t-test:\")\n",
        "print(\"t-statistic:\", t_stat)\n",
        "print(\"p-value:\", p_value)\n",
        "\n",
        "# Correlation\n",
        "corr_coef, p_value = stats.pearsonr(data1, data2)\n",
        "print(\"\\nCorrelation:\")\n",
        "print(\"Correlation coefficient:\", corr_coef)\n",
        "print(\"p-value:\", p_value)\n",
        "\n",
        "# Tests for Association (Chi-square test of independence)\n",
        "# Create contingency table for demonstration\n",
        "observed = np.array([[30, 10], [20, 40]])\n",
        "chi2_stat, p_value, dof, expected = stats.chi2_contingency(observed)\n",
        "print(\"\\nTests for Association (Chi-square test of independence):\")\n",
        "print(\"Chi-square statistic:\", chi2_stat)\n",
        "print(\"p-value:\", p_value)\n"
      ]
    }
  ]
}