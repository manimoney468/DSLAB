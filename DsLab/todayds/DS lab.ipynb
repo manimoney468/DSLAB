{
 "cells": [
  {
   "cell_type": "markdown",
   "id": "0b73cdad",
   "metadata": {},
   "source": [
    "# Exp 1 or Linear regression "
   ]
  },
  {
   "cell_type": "markdown",
   "id": "848569d4",
   "metadata": {
    "slideshow": {
     "slide_type": "slide"
    }
   },
   "source": [
    "Apply least squares model for the regression of number of units sold on TV\n",
    "advertising budget for the Advertising data, for least squares coefficient\n",
    "estimates for simple linear regression"
   ]
  },
  {
   "cell_type": "code",
   "execution_count": 1,
   "id": "2b1cb7b5",
   "metadata": {
    "slideshow": {
     "slide_type": "slide"
    }
   },
   "outputs": [
    {
     "data": {
      "text/plain": [
       "0.8121757029987414"
      ]
     },
     "execution_count": 1,
     "metadata": {},
     "output_type": "execute_result"
    }
   ],
   "source": [
    "import pandas as pd\n",
    "from sklearn.linear_model import LinearRegression\n",
    "from sklearn.metrics import r2_score, mean_squared_error\n",
    "\n",
    "df = pd.read_csv('Advertising.csv')\n",
    "\n",
    "X = df['TV'].values.reshape(-1, 1)\n",
    "y = df['Sales']\n",
    "\n",
    "model = LinearRegression()\n",
    "model.fit(X, y)\n",
    "y_pred = model.predict(X)\n",
    "r_squared = r2_score(y, y_pred)\n",
    "r_squared"
   ]
  },
  {
   "cell_type": "markdown",
   "id": "8074c08e",
   "metadata": {},
   "source": [
    "# Multiple linear regression \n"
   ]
  },
  {
   "cell_type": "code",
   "execution_count": 2,
   "id": "ad81fb70",
   "metadata": {
    "slideshow": {
     "slide_type": "slide"
    }
   },
   "outputs": [
    {
     "data": {
      "text/plain": [
       "0.9025912899684558"
      ]
     },
     "execution_count": 2,
     "metadata": {},
     "output_type": "execute_result"
    }
   ],
   "source": [
    "import pandas as pd\n",
    "from sklearn.linear_model import LinearRegression\n",
    "from sklearn.metrics import r2_score, mean_squared_error\n",
    "df = pd.read_csv('Advertising.csv')\n",
    "X = df[['TV', 'Radio', 'Newspaper']]\n",
    "y = df['Sales']\n",
    "model = LinearRegression()\n",
    "model.fit(X, y)\n",
    "y_pred = model.predict(X)\n",
    "r_squared = r2_score(y, y_pred)\n",
    "r_squared"
   ]
  },
  {
   "cell_type": "markdown",
   "id": "f68656e4",
   "metadata": {},
   "source": [
    "# KNN"
   ]
  },
  {
   "cell_type": "code",
   "execution_count": 3,
   "id": "57e3c2d4",
   "metadata": {
    "slideshow": {
     "slide_type": "slide"
    }
   },
   "outputs": [
    {
     "data": {
      "text/plain": [
       "0.8991773755626823"
      ]
     },
     "execution_count": 3,
     "metadata": {},
     "output_type": "execute_result"
    }
   ],
   "source": [
    "import pandas as pd\n",
    "from sklearn.neighbors import KNeighborsRegressor\n",
    "from sklearn.model_selection import train_test_split\n",
    "df = pd.read_csv('Advertising.csv')\n",
    "\n",
    "X_train, X_test, y_train, y_test = train_test_split(X, y, test_size=0.2, random_state=42)\n",
    "model = KNeighborsRegressor(n_neighbors=5)\n",
    "model.fit(X_train, y_train)\n",
    "y_pred = model.predict(X_test)\n",
    "r_squared = r2_score(y_test, y_pred)\n",
    "r_squared"
   ]
  },
  {
   "cell_type": "markdown",
   "id": "fc37c3a2",
   "metadata": {},
   "source": [
    "# Navi Bayesian "
   ]
  },
  {
   "cell_type": "code",
   "execution_count": 4,
   "id": "83d5087d",
   "metadata": {
    "slideshow": {
     "slide_type": "slide"
    }
   },
   "outputs": [
    {
     "name": "stdout",
     "output_type": "stream",
     "text": [
      "R-squared score: 0.8991773755626823\n"
     ]
    }
   ],
   "source": [
    "import pandas as pd\n",
    "from sklearn.neighbors import KNeighborsRegressor\n",
    "from sklearn.model_selection import train_test_split\n",
    "from sklearn.metrics import r2_score\n",
    "\n",
    "df = pd.read_csv('Advertising.csv')\n",
    "\n",
    "X = df[['TV', 'Radio', 'Newspaper']]\n",
    "y = df['Sales']\n",
    "\n",
    "X_train, X_test, y_train, y_test = train_test_split(X, y, test_size=0.2, random_state=42)\n",
    "\n",
    "model = KNeighborsRegressor(n_neighbors=5)\n",
    "model.fit(X_train, y_train)\n",
    "\n",
    "y_pred = model.predict(X_test)\n",
    "\n",
    "r_squared = r2_score(y_test, y_pred)\n",
    "print(\"R-squared score:\", r_squared)\n"
   ]
  },
  {
   "cell_type": "markdown",
   "id": "868bfb83",
   "metadata": {},
   "source": [
    "# Gradient Descent\n"
   ]
  },
  {
   "cell_type": "code",
   "execution_count": 5,
   "id": "425b9749",
   "metadata": {
    "slideshow": {
     "slide_type": "slide"
    }
   },
   "outputs": [
    {
     "name": "stdout",
     "output_type": "stream",
     "text": [
      "Testing R-squared: 0.906094676250872\n"
     ]
    }
   ],
   "source": [
    "import pandas as pd\n",
    "from sklearn.linear_model import SGDRegressor\n",
    "from sklearn.preprocessing import StandardScaler\n",
    "from sklearn.model_selection import train_test_split\n",
    "\n",
    "df = pd.read_csv('Advertising.csv')\n",
    "\n",
    "X = df[['TV', 'Radio', 'Newspaper']]\n",
    "y = df['Sales']\n",
    "scaler = StandardScaler()\n",
    "X_train_scaled = scaler.fit_transform(X_train)\n",
    "X_test_scaled = scaler.transform(X_test)\n",
    "model = SGDRegressor(loss='squared_error')\n",
    "model.fit(X_train_scaled, y_train)\n",
    "\n",
    "y_test_pred = model.predict(X_test_scaled)\n",
    "test_r_squared = r2_score(y_test, y_test_pred)\n",
    "\n",
    "print(\"Testing R-squared:\", test_r_squared)"
   ]
  },
  {
   "cell_type": "markdown",
   "id": "27230cae",
   "metadata": {},
   "source": [
    "# Matplotlib"
   ]
  },
  {
   "cell_type": "markdown",
   "id": "66e45fbe",
   "metadata": {},
   "source": [
    "# Simple line graph"
   ]
  },
  {
   "cell_type": "code",
   "execution_count": 6,
   "id": "8ebda17d",
   "metadata": {
    "slideshow": {
     "slide_type": "slide"
    }
   },
   "outputs": [
    {
     "data": {
      "image/png": "[encoded data removed]",
      "text/plain": [
       "<Figure size 640x480 with 1 Axes>"
      ]
     },
     "metadata": {},
     "output_type": "display_data"
    }
   ],
   "source": [
    "import matplotlib.pyplot as plt\n",
    "\n",
    "\n",
    "x = [1, 2, 3, 4, 5]\n",
    "y = [2, 3, 5, 7, 11]\n",
    "\n",
    "plt.plot(x, y)\n",
    "\n",
    "plt.xlabel('X-axis')\n",
    "plt.ylabel('Y-axis')\n",
    "plt.title('Simple Line Graph')\n",
    "\n",
    "\n",
    "plt.show()\n"
   ]
  },
  {
   "cell_type": "markdown",
   "id": "5ebcd409",
   "metadata": {},
   "source": [
    "# Multiple line graph"
   ]
  },
  {
   "cell_type": "code",
   "execution_count": 7,
   "id": "ed963b1b",
   "metadata": {
    "slideshow": {
     "slide_type": "slide"
    }
   },
   "outputs": [
    {
     "data": {
      "image/png": "[encoded data removed]",
      "text/plain": [
       "<Figure size 640x480 with 1 Axes>"
      ]
     },
     "metadata": {},
     "output_type": "display_data"
    }
   ],
   "source": [
    "import matplotlib.pyplot as plt\n",
    "\n",
    "\n",
    "x = [1, 2, 3, 4, 5]\n",
    "y1 = [2, 3, 5, 7, 11]\n",
    "y2 = [1, 4, 9, 16, 25]\n",
    "\n",
    "plt.plot(x, y1, label='Line 1')\n",
    "plt.plot(x, y2, label='Line 2')\n",
    "\n",
    "plt.xlabel('X-axis')\n",
    "plt.ylabel('Y-axis')\n",
    "plt.title('Simple Line Graph')\n",
    "\n",
    "plt.legend()\n",
    "\n",
    "plt.show()\n"
   ]
  },
  {
   "cell_type": "markdown",
   "id": "021d89cb",
   "metadata": {},
   "source": [
    "# Bar graph"
   ]
  },
  {
   "cell_type": "code",
   "execution_count": 8,
   "id": "922bd0c8",
   "metadata": {
    "slideshow": {
     "slide_type": "slide"
    }
   },
   "outputs": [
    {
     "data": {
      "image/png": "[encoded data removed]",
      "text/plain": [
       "<Figure size 640x480 with 1 Axes>"
      ]
     },
     "metadata": {},
     "output_type": "display_data"
    }
   ],
   "source": [
    "import matplotlib.pyplot as plt\n",
    "\n",
    "\n",
    "x = [1, 2, 3, 4, 5]\n",
    "y = [2, 3, 5, 7, 11]\n",
    "\n",
    "plt.bar(x, y)\n",
    "\n",
    "plt.xlabel('X-axis')\n",
    "plt.ylabel('Y-axis')\n",
    "plt.title('Simple Line Graph')\n",
    "\n",
    "\n",
    "plt.show()"
   ]
  },
  {
   "cell_type": "markdown",
   "id": "11ab15b2",
   "metadata": {},
   "source": [
    "# Pie chart"
   ]
  },
  {
   "cell_type": "code",
   "execution_count": 9,
   "id": "c9077e8c",
   "metadata": {
    "slideshow": {
     "slide_type": "slide"
    }
   },
   "outputs": [
    {
     "data": {
      "image/png": "[encoded data removed]",
      "text/plain": [
       "<Figure size 640x480 with 1 Axes>"
      ]
     },
     "metadata": {},
     "output_type": "display_data"
    }
   ],
   "source": [
    "import matplotlib.pyplot as plt\n",
    "x = [1, 2, 3, 4, 5]\n",
    "plt.pie(x)\n",
    "plt.title('Simple Line Graph')\n",
    "plt.show()"
   ]
  },
  {
   "cell_type": "code",
   "execution_count": 10,
   "id": "8ecf87fc",
   "metadata": {
    "slideshow": {
     "slide_type": "slide"
    }
   },
   "outputs": [
    {
     "data": {
      "image/png": "[encoded data removed]",
      "text/plain": [
       "<Figure size 640x480 with 1 Axes>"
      ]
     },
     "metadata": {},
     "output_type": "display_data"
    }
   ],
   "source": [
    "import matplotlib.pyplot as plt\n",
    "\n",
    "\n",
    "x = [1, 2, 3, 4, 5]\n",
    "y = [2, 3, 5, 7, 11]\n",
    "\n",
    "plt.hist(x, y)\n",
    "\n",
    "plt.xlabel('X-axis')\n",
    "plt.ylabel('Y-axis')\n",
    "plt.title('Simple Line Graph')\n",
    "\n",
    "\n",
    "plt.show()"
   ]
  },
  {
   "cell_type": "markdown",
   "id": "0c70218b",
   "metadata": {},
   "source": [
    "# Exp 2"
   ]
  },
  {
   "cell_type": "markdown",
   "id": "fd39ab98",
   "metadata": {
    "slideshow": {
     "slide_type": "slide"
    }
   },
   "source": [
    "Compute t-statistic, Residual standard error, F-statistic and residual sum of\n",
    "squares (RSS) errors."
   ]
  },
  {
   "cell_type": "code",
   "execution_count": 11,
   "id": "1e26d3ae",
   "metadata": {
    "slideshow": {
     "slide_type": "slide"
    }
   },
   "outputs": [
    {
     "name": "stdout",
     "output_type": "stream",
     "text": [
      "T-Statistic: [7.43745000e+15 2.46672311e+16]\n",
      "Residual Standard Error: 1.2819751242557092e-16\n",
      "F-Statistic: 6.084722881095501e+32\n",
      "Residual Sum of Squares (RSS): 4.930380657631324e-32\n"
     ]
    }
   ],
   "source": [
    "import numpy as np\n",
    "import statsmodels.api as sm\n",
    "X = np.array([1, 2, 3, 4, 5])\n",
    "y = np.array([2, 3, 4, 5, 6])\n",
    "X = sm.add_constant(X)\n",
    "model = sm.OLS(y, X).fit()\n",
    "t_statistic = model.tvalues\n",
    "residual_standard_error = np.sqrt(model.mse_resid)\n",
    "f_statistic = model.fvalue\n",
    "rss = model.ssr\n",
    "print(\"T-Statistic:\", t_statistic)\n",
    "print(\"Residual Standard Error:\", residual_standard_error)\n",
    "print(\"F-Statistic:\", f_statistic)\n",
    "print(\"Residual Sum of Squares (RSS):\", rss)"
   ]
  },
  {
   "cell_type": "markdown",
   "id": "36476fa3",
   "metadata": {},
   "source": [
    "# Exp3 "
   ]
  },
  {
   "cell_type": "markdown",
   "id": "ac22b784",
   "metadata": {
    "slideshow": {
     "slide_type": "slide"
    }
   },
   "source": [
    "Do any of the predictors appear to be statistically significant? If so, which\n",
    "ones?"
   ]
  },
  {
   "cell_type": "code",
   "execution_count": 12,
   "id": "12f3f65c",
   "metadata": {
    "slideshow": {
     "slide_type": "slide"
    }
   },
   "outputs": [
    {
     "name": "stdout",
     "output_type": "stream",
     "text": [
      "                            OLS Regression Results                            \n",
      "==============================================================================\n",
      "Dep. Variable:                      y   R-squared:                       1.000\n",
      "Model:                            OLS   Adj. R-squared:                  1.000\n",
      "Method:                 Least Squares   F-statistic:                 6.085e+32\n",
      "Date:                Wed, 05 Jun 2024   Prob (F-statistic):           1.47e-49\n",
      "Time:                        20:34:10   Log-Likelihood:                 177.15\n",
      "No. Observations:                   5   AIC:                            -350.3\n",
      "Df Residuals:                       3   BIC:                            -351.1\n",
      "Df Model:                           1                                         \n",
      "Covariance Type:            nonrobust                                         \n",
      "==============================================================================\n",
      "                 coef    std err          t      P>|t|      [0.025      0.975]\n",
      "------------------------------------------------------------------------------\n",
      "const          1.0000   1.34e-16   7.44e+15      0.000       1.000       1.000\n",
      "x1             1.0000   4.05e-17   2.47e+16      0.000       1.000       1.000\n",
      "==============================================================================\n",
      "Omnibus:                          nan   Durbin-Watson:                   1.000\n",
      "Prob(Omnibus):                    nan   Jarque-Bera (JB):                1.888\n",
      "Skew:                           1.500   Prob(JB):                        0.389\n",
      "Kurtosis:                       3.250   Cond. No.                         8.37\n",
      "==============================================================================\n",
      "\n",
      "Notes:\n",
      "[1] Standard Errors assume that the covariance matrix of the errors is correctly specified.\n",
      "P-Values: [1.46929683e-49]\n",
      "Significant Predictor Indices: [0]\n"
     ]
    },
    {
     "name": "stderr",
     "output_type": "stream",
     "text": [
      "C:\\Users\\hites\\anaconda3\\Lib\\site-packages\\statsmodels\\stats\\stattools.py:74: ValueWarning: omni_normtest is not valid with less than 8 observations; 5 samples were given.\n",
      "  warn(\"omni_normtest is not valid with less than 8 observations; %i \"\n"
     ]
    }
   ],
   "source": [
    "import numpy as np\n",
    "import statsmodels.api as sm\n",
    "\n",
    "# Sample data\n",
    "X = np.array([1, 2, 3, 4, 5])\n",
    "y = np.array([2, 3, 4, 5, 6])\n",
    "\n",
    "# Add constant for intercept term\n",
    "X = sm.add_constant(X)\n",
    "\n",
    "# Fit linear regression model\n",
    "model = sm.OLS(y, X).fit()\n",
    "\n",
    "# Get model summary\n",
    "print(model.summary())\n",
    "\n",
    "# Extract p-values\n",
    "p_values = model.pvalues[1:]  # Exclude intercept term\n",
    "print(\"P-Values:\", p_values)\n",
    "\n",
    "# Identify statistically significant predictors\n",
    "significant_predictors = np.where(p_values < 0.05)[0]\n",
    "print(\"Significant Predictor Indices:\", significant_predictors)\n"
   ]
  },
  {
   "cell_type": "markdown",
   "id": "95428c2f",
   "metadata": {},
   "source": [
    "# Exp4"
   ]
  },
  {
   "cell_type": "markdown",
   "id": "79461037",
   "metadata": {
    "slideshow": {
     "slide_type": "slide"
    }
   },
   "source": [
    "Compute the confusion matrix and overall fraction of correct predictions.\n",
    "Explain what the confusion matrix is telling you about the types of mistakes\n",
    "made by KNN"
   ]
  },
  {
   "cell_type": "code",
   "execution_count": 13,
   "id": "db53c115",
   "metadata": {
    "slideshow": {
     "slide_type": "slide"
    }
   },
   "outputs": [
    {
     "name": "stdout",
     "output_type": "stream",
     "text": [
      "Confusion Matrix:\n",
      "[[3 2]\n",
      " [1 4]]\n",
      "Overall Accuracy: 0.7\n"
     ]
    }
   ],
   "source": [
    "from sklearn.metrics import confusion_matrix, accuracy_score\n",
    "\n",
    "\n",
    "y_true = [0, 1, 0, 1, 0, 1, 1, 0, 1, 0]  \n",
    "y_pred = [0, 1, 1, 1, 0, 0, 1, 0, 1, 1]  \n",
    "\n",
    "# Compute confusion matrix\n",
    "cm = confusion_matrix(y_true, y_pred)\n",
    "print(\"Confusion Matrix:\")\n",
    "print(cm)\n",
    "\n",
    "# Compute overall fraction of correct predictions\n",
    "accuracy = accuracy_score(y_true, y_pred)\n",
    "print(\"Overall Accuracy:\", accuracy)\n",
    "\n"
   ]
  },
  {
   "cell_type": "markdown",
   "id": "7b7e9b52",
   "metadata": {},
   "source": [
    "# Exp 5"
   ]
  },
  {
   "cell_type": "markdown",
   "id": "48c24601",
   "metadata": {
    "slideshow": {
     "slide_type": "slide"
    }
   },
   "source": [
    "Compute Mallow’s Cp, Akaike information criterion (AIC), adjusted R Squared\n",
    "and Bayesian information criterion (BIC)"
   ]
  },
  {
   "cell_type": "code",
   "execution_count": 14,
   "id": "979fb670",
   "metadata": {
    "slideshow": {
     "slide_type": "slide"
    }
   },
   "outputs": [
    {
     "name": "stdout",
     "output_type": "stream",
     "text": [
      "Mallow's Cp: 1.8591479383796198e-29\n",
      "AIC: -328.71653386035314\n",
      "Adjusted R-squared: 1.0\n",
      "BIC: -329.8882201230508\n"
     ]
    }
   ],
   "source": [
    "import numpy as np\n",
    "import statsmodels.api as sm\n",
    "\n",
    "\n",
    "X = np.array([[1, 2, 3, 4, 5], [2, 3, 4, 5, 6]]).T  \n",
    "y = np.array([2, 3, 4, 5, 6])  \n",
    "\n",
    "model = sm.OLS(y, sm.add_constant(X)).fit()\n",
    "\n",
    "residuals = model.resid\n",
    "p = len(model.params) \n",
    "n = len(y)  \n",
    "rss = np.sum(residuals ** 2)  \n",
    "\n",
    "Cp = (1/n) * (rss + 2 * p * (rss/n))  \n",
    "AIC = (2 * p) + (n * np.log(rss/n))  \n",
    "adj_r_squared = 1 - ((rss/(n - p - 1)) / (np.var(y)))  \n",
    "BIC = n * np.log(rss/n) + p * np.log(n)  \n",
    "\n",
    "\n",
    "print(\"Mallow's Cp:\", Cp)\n",
    "print(\"AIC:\", AIC)\n",
    "print(\"Adjusted R-squared:\", adj_r_squared)\n",
    "print(\"BIC:\", BIC)\n"
   ]
  },
  {
   "cell_type": "markdown",
   "id": "cfaa5774",
   "metadata": {},
   "source": [
    "# Exp6"
   ]
  },
  {
   "cell_type": "markdown",
   "id": "3f7c94c0",
   "metadata": {
    "slideshow": {
     "slide_type": "slide"
    }
   },
   "source": [
    "Produce some histograms with differing numbers of bins for a few of the\n",
    "quantitative variables"
   ]
  },
  {
   "cell_type": "code",
   "execution_count": 15,
   "id": "e96f283c",
   "metadata": {
    "slideshow": {
     "slide_type": "slide"
    }
   },
   "outputs": [
    {
     "data": {
      "image/png": "[encoded data removed]",
      "text/plain": [
       "<Figure size 1200x400 with 3 Axes>"
      ]
     },
     "metadata": {},
     "output_type": "display_data"
    }
   ],
   "source": [
    "import numpy as np\n",
    "import matplotlib.pyplot as plt\n",
    "\n",
    "# Generate some example data\n",
    "np.random.seed(0)\n",
    "data = np.random.normal(loc=0, scale=1, size=1000)  # Example data with normal distribution\n",
    "\n",
    "# Create histograms with different numbers of bins\n",
    "bins_list = [10, 20, 30]  # Different numbers of bins\n",
    "titles = ['Histogram with 10 Bins', 'Histogram with 20 Bins', 'Histogram with 30 Bins']\n",
    "\n",
    "plt.figure(figsize=(12, 4))\n",
    "for i, bins in enumerate(bins_list, start=1):\n",
    "    plt.subplot(1, len(bins_list), i)\n",
    "    plt.hist(data, bins=bins, edgecolor='black')\n",
    "    plt.title(titles[i-1])\n",
    "    plt.xlabel('Value')\n",
    "    plt.ylabel('Frequency')\n",
    "\n",
    "plt.tight_layout()\n",
    "plt.show()\n"
   ]
  },
  {
   "cell_type": "markdown",
   "id": "d477c89e",
   "metadata": {},
   "source": [
    "# Exp 7"
   ]
  },
  {
   "cell_type": "markdown",
   "id": "b7ee09bb",
   "metadata": {
    "slideshow": {
     "slide_type": "slide"
    }
   },
   "source": [
    "Continue exploring the data, and provide a brief summary of what you\n",
    "discover.\n"
   ]
  },
  {
   "cell_type": "markdown",
   "id": "c064fce7",
   "metadata": {
    "slideshow": {
     "slide_type": "slide"
    }
   },
   "source": [
    "Descriptive Statistics: Calculate summary statistics such as mean, median, standard deviation, minimum, maximum, and quartiles for quantitative variables. For categorical variables, count the frequency of each category.\n",
    "Data Visualization: Create visualizations such as histograms, box plots, scatter plots, and bar plots to understand the distribution, relationships, and patterns in the data.\n",
    "Correlation Analysis: Compute correlations between pairs of quantitative variables to identify any linear relationships. Visualize the correlation matrix using a heatmap.\n",
    "Outlier Detection: Identify any outliers in the data using statistical methods or visualization techniques.\n",
    "Missing Values: Check for missing values in the dataset and decide on appropriate strategies for handling them, such as imputation or removal.\n",
    "Feature Engineering: Create new features or transform existing features to better represent the underlying patterns in the data.\n",
    "Dimensionality Reduction: Apply techniques such as principal component analysis (PCA) or t-distributed stochastic neighbor embedding (t-SNE) to reduce the dimensionality of the data and visualize high-dimensional data in lower dimensions.\n",
    "Cluster Analysis: Explore whether there are natural groupings or clusters in the data using clustering algorithms such as K-means or hierarchical clustering.\n",
    "Based on the results of these analyses, we can provide a summary of the key findings, insights, and patterns observed in the data. This summary can help stakeholders better understand the characteristics of the dataset and inform decision-making processes."
   ]
  },
  {
   "cell_type": "markdown",
   "id": "c5bc3d38",
   "metadata": {},
   "source": [
    "# Exp 8"
   ]
  },
  {
   "cell_type": "markdown",
   "id": "5ca93d3f",
   "metadata": {
    "slideshow": {
     "slide_type": "slide"
    }
   },
   "source": [
    "Carry out the pearson product moment correlation, spearman rho correlation\n",
    "and kendall’s tau\n"
   ]
  },
  {
   "cell_type": "code",
   "execution_count": 16,
   "id": "eb5bf31b",
   "metadata": {
    "slideshow": {
     "slide_type": "slide"
    }
   },
   "outputs": [
    {
     "name": "stdout",
     "output_type": "stream",
     "text": [
      "Pearson correlation coefficient: 1.0\n",
      "Pearson p-value: 0.0\n",
      "Spearman's rank correlation coefficient (Spearman rho): 0.9999999999999999\n",
      "Spearman p-value: 1.4042654220543672e-24\n",
      "Kendall's tau correlation coefficient: 0.9999999999999999\n",
      "Kendall p-value: 0.016666666666666666\n"
     ]
    }
   ],
   "source": [
    "import numpy as np\n",
    "from scipy.stats import pearsonr, spearmanr, kendalltau\n",
    "\n",
    "x = np.array([1, 2, 3, 4, 5])\n",
    "y = np.array([2, 3, 4, 5, 6])\n",
    "\n",
    "pearson_corr, pearson_p_value = pearsonr(x, y)\n",
    "print(\"Pearson correlation coefficient:\", pearson_corr)\n",
    "print(\"Pearson p-value:\", pearson_p_value)\n",
    "\n",
    "spearman_corr, spearman_p_value = spearmanr(x, y)\n",
    "print(\"Spearman's rank correlation coefficient (Spearman rho):\", spearman_corr)\n",
    "print(\"Spearman p-value:\", spearman_p_value)\n",
    "\n",
    "kendall_corr, kendall_p_value = kendalltau(x, y)\n",
    "print(\"Kendall's tau correlation coefficient:\", kendall_corr)\n",
    "print(\"Kendall p-value:\", kendall_p_value)\n"
   ]
  },
  {
   "cell_type": "markdown",
   "id": "f22a0ea8",
   "metadata": {},
   "source": [
    "# Exp 9"
   ]
  },
  {
   "cell_type": "markdown",
   "id": "b1b2860a",
   "metadata": {
    "slideshow": {
     "slide_type": "slide"
    }
   },
   "source": [
    "Perform Simple Hypothesis testing, student’s t-test, paired t and u test,\n",
    "correlation and covariance, tests for association"
   ]
  },
  {
   "cell_type": "code",
   "execution_count": 17,
   "id": "190837e1",
   "metadata": {
    "slideshow": {
     "slide_type": "slide"
    }
   },
   "outputs": [
    {
     "name": "stdout",
     "output_type": "stream",
     "text": [
      "Simple Hypothesis Testing:\n",
      "Sample mean: 3.0\n",
      "t-statistic: 0.0\n",
      "p-value: 1.0\n",
      "\n",
      "Student's t-test:\n",
      "t-statistic: 0.0\n",
      "p-value: 1.0\n",
      "\n",
      "Paired t-test:\n",
      "t-statistic: -inf\n",
      "p-value: 0.0\n",
      "\n",
      "Wilcoxon Signed-Rank Test (U Test):\n",
      "Statistic: 0.0\n",
      "p-value: 0.0625\n",
      "\n",
      "Correlation and Covariance:\n",
      "Correlation coefficient: 0.9999999999999999\n",
      "Covariance: 2.5\n",
      "\n",
      "Tests for Association:\n",
      "Chi-square statistic: 5.000000000000001\n",
      "p-value: 0.2872974951836456\n"
     ]
    },
    {
     "name": "stderr",
     "output_type": "stream",
     "text": [
      "C:\\Users\\hites\\anaconda3\\Lib\\site-packages\\scipy\\stats\\_axis_nan_policy.py:523: RuntimeWarning: Precision loss occurred in moment calculation due to catastrophic cancellation. This occurs when the data are nearly identical. Results may be unreliable.\n",
      "  res = hypotest_fun_out(*samples, **kwds)\n"
     ]
    }
   ],
   "source": [
    "import numpy as np\n",
    "from scipy.stats import ttest_ind, ttest_rel, wilcoxon, chi2_contingency\n",
    "import pandas as pd\n",
    "\n",
    "# Example data\n",
    "data = {\n",
    "    'X': [1, 2, 3, 4, 5],\n",
    "    'Y': [2, 3, 4, 5, 6],\n",
    "    'Category': ['A', 'B', 'A', 'B', 'A']\n",
    "}\n",
    "df = pd.DataFrame(data)\n",
    "\n",
    "# Simple Hypothesis Testing\n",
    "mean_value = 3  # Known value for comparison\n",
    "sample_mean = np.mean(df['X'])\n",
    "t_statistic, p_value = ttest_ind(df['X'], [mean_value])\n",
    "print(\"Simple Hypothesis Testing:\")\n",
    "print(\"Sample mean:\", sample_mean)\n",
    "print(\"t-statistic:\", t_statistic)\n",
    "print(\"p-value:\", p_value)\n",
    "\n",
    "# Student's t-test\n",
    "t_statistic, p_value = ttest_ind(df[df['Category'] == 'A']['Y'], df[df['Category'] == 'B']['Y'])\n",
    "print(\"\\nStudent's t-test:\")\n",
    "print(\"t-statistic:\", t_statistic)\n",
    "print(\"p-value:\", p_value)\n",
    "\n",
    "# Paired t-test\n",
    "t_statistic, p_value = ttest_rel(df['X'], df['Y'])\n",
    "print(\"\\nPaired t-test:\")\n",
    "print(\"t-statistic:\", t_statistic)\n",
    "print(\"p-value:\", p_value)\n",
    "\n",
    "# Wilcoxon Signed-Rank Test (U Test)\n",
    "statistic, p_value = wilcoxon(df['X'], df['Y'])\n",
    "print(\"\\nWilcoxon Signed-Rank Test (U Test):\")\n",
    "print(\"Statistic:\", statistic)\n",
    "print(\"p-value:\", p_value)\n",
    "\n",
    "# Correlation and Covariance\n",
    "correlation = df['X'].corr(df['Y'])\n",
    "covariance = df['X'].cov(df['Y'])\n",
    "print(\"\\nCorrelation and Covariance:\")\n",
    "print(\"Correlation coefficient:\", correlation)\n",
    "print(\"Covariance:\", covariance)\n",
    "\n",
    "# Tests for Association\n",
    "contingency_table = pd.crosstab(df['X'], df['Category'])\n",
    "chi2, p_value, _, _ = chi2_contingency(contingency_table)\n",
    "print(\"\\nTests for Association:\")\n",
    "print(\"Chi-square statistic:\", chi2)\n",
    "print(\"p-value:\", p_value)\n"
   ]
  },
  {
   "cell_type": "markdown",
   "id": "d32b8fb7",
   "metadata": {},
   "source": [
    "# Exp 10"
   ]
  },
  {
   "cell_type": "markdown",
   "id": "561c1f64",
   "metadata": {
    "slideshow": {
     "slide_type": "slide"
    }
   },
   "source": [
    " Perform Programming for Eigen values and Eigen vectors"
   ]
  },
  {
   "cell_type": "code",
   "execution_count": 18,
   "id": "eef5f545",
   "metadata": {
    "slideshow": {
     "slide_type": "slide"
    }
   },
   "outputs": [
    {
     "name": "stdout",
     "output_type": "stream",
     "text": [
      "Eigenvalues:\n",
      "[ 3. -1.]\n",
      "\n",
      "Eigenvectors:\n",
      "[[ 0.70710678 -0.70710678]\n",
      " [ 0.70710678  0.70710678]]\n"
     ]
    }
   ],
   "source": [
    "import numpy as np\n",
    "\n",
    "# Example matrix\n",
    "A = np.array([[1, 2],\n",
    "              [2, 1]])\n",
    "\n",
    "# Compute eigenvalues and eigenvectors\n",
    "eigenvalues, eigenvectors = np.linalg.eig(A)\n",
    "\n",
    "# Print eigenvalues and eigenvectors\n",
    "print(\"Eigenvalues:\")\n",
    "print(eigenvalues)\n",
    "print(\"\\nEigenvectors:\")\n",
    "print(eigenvectors)\n"
   ]
  }
 ],
 "metadata": {
  "celltoolbar": "Slideshow",
  "kernelspec": {
   "display_name": "Python 3 (ipykernel)",
   "language": "python",
   "name": "python3"
  },
  "language_info": {
   "codemirror_mode": {
    "name": "ipython",
    "version": 3
   },
   "file_extension": ".py",
   "mimetype": "text/x-python",
   "name": "python",
   "nbconvert_exporter": "python",
   "pygments_lexer": "ipython3",
   "version": "3.11.5"
  }
 },
 "nbformat": 4,
 "nbformat_minor": 5
}
