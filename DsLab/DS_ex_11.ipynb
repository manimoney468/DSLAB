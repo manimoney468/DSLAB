{
  "nbformat": 4,
  "nbformat_minor": 0,
  "metadata": {
    "colab": {
      "provenance": []
    },
    "kernelspec": {
      "name": "python3",
      "display_name": "Python 3"
    },
    "language_info": {
      "name": "python"
    }
  },
  "cells": [
    {
      "cell_type": "code",
      "execution_count": null,
      "metadata": {
        "colab": {
          "base_uri": "https://localhost:8080/"
        },
        "id": "PR1pA5_9foxb",
        "outputId": "4abaa63e-fe61-42be-dec5-3f8c20401f04"
      },
      "outputs": [
        {
          "output_type": "stream",
          "name": "stdout",
          "text": [
            "Q (Orthogonal matrix):\n",
            "[[-0.16903085  0.89708523]\n",
            " [-0.50709255  0.27602622]\n",
            " [-0.84515425 -0.34503278]]\n",
            "\n",
            "R (Upper triangular matrix):\n",
            "[[-5.91607978 -7.43735744]\n",
            " [ 0.          0.82807867]]\n"
          ]
        }
      ],
      "source": [
        "import numpy as np\n",
        "\n",
        "# Define a matrix\n",
        "A = np.array([[1, 2], [3, 4], [5, 6]])\n",
        "\n",
        "# Perform QR decomposition\n",
        "Q, R = np.linalg.qr(A)\n",
        "\n",
        "print(\"Q (Orthogonal matrix):\")\n",
        "print(Q)\n",
        "print(\"\\nR (Upper triangular matrix):\")\n",
        "print(R)\n",
        "\n"
      ]
    },
    {
      "cell_type": "code",
      "source": [
        "import numpy as np\n",
        "\n",
        "# Define a matrix\n",
        "A = np.array([[1, 2], [3, 4], [5, 6]])\n",
        "\n",
        "# Perform SVD\n",
        "U, S, Vt = np.linalg.svd(A)\n",
        "\n",
        "print(\"U (Left singular vectors):\")\n",
        "print(U)\n",
        "print(\"\\nS (Singular values):\")\n",
        "print(np.diag(S))\n",
        "print(\"\\nVt (Right singular vectors):\")\n",
        "print(Vt)\n",
        "\n"
      ],
      "metadata": {
        "colab": {
          "base_uri": "https://localhost:8080/"
        },
        "id": "MGpW78U7fz7i",
        "outputId": "556dbede-4b60-4c69-cbd5-4cec1821ca64"
      },
      "execution_count": null,
      "outputs": [
        {
          "output_type": "stream",
          "name": "stdout",
          "text": [
            "U (Left singular vectors):\n",
            "[[-0.2298477   0.88346102  0.40824829]\n",
            " [-0.52474482  0.24078249 -0.81649658]\n",
            " [-0.81964194 -0.40189603  0.40824829]]\n",
            "\n",
            "S (Singular values):\n",
            "[[9.52551809 0.        ]\n",
            " [0.         0.51430058]]\n",
            "\n",
            "Vt (Right singular vectors):\n",
            "[[-0.61962948 -0.78489445]\n",
            " [-0.78489445  0.61962948]]\n"
          ]
        }
      ]
    },
    {
      "cell_type": "code",
      "source": [
        "import numpy as np\n",
        "\n",
        "# Define data matrix\n",
        "data = np.array([[1, 2, 3], [4, 5, 6], [7, 8, 9], [10, 11, 12]])\n",
        "\n",
        "# Center the data\n",
        "mean = np.mean(data, axis=0)\n",
        "centered_data = data - mean\n",
        "\n",
        "# Perform SVD\n",
        "U, S, Vt = np.linalg.svd(centered_data)\n",
        "\n",
        "# Calculate principal components\n",
        "PCs = Vt.T\n",
        "\n",
        "print(\"Principal Components:\")\n",
        "print(PCs)\n"
      ],
      "metadata": {
        "colab": {
          "base_uri": "https://localhost:8080/"
        },
        "id": "dOv0w5Fpf4Jx",
        "outputId": "6c9e2d79-0a40-4508-8867-c7e68d575fac"
      },
      "execution_count": null,
      "outputs": [
        {
          "output_type": "stream",
          "name": "stdout",
          "text": [
            "Principal Components:\n",
            "[[ 0.57735027  0.          0.81649658]\n",
            " [ 0.57735027 -0.70710678 -0.40824829]\n",
            " [ 0.57735027  0.70710678 -0.40824829]]\n"
          ]
        }
      ]
    }
  ]
}